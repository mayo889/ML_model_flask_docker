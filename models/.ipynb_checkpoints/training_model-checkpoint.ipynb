{
 "cells": [
  {
   "cell_type": "code",
   "execution_count": 1,
   "metadata": {},
   "outputs": [],
   "source": [
    "import pandas as pd\n",
    "import numpy as np\n",
    "import dill\n",
    "\n",
    "from sklearn.model_selection import train_test_split\n",
    "from sklearn.preprocessing import StandardScaler\n",
    "from sklearn.ensemble import GradientBoostingClassifier\n",
    "from sklearn.ensemble import RandomForestClassifier\n",
    "\n",
    "from sklearn.metrics import roc_auc_score, precision_recall_curve"
   ]
  },
  {
   "cell_type": "markdown",
   "metadata": {},
   "source": [
    "Ссылка на датасет: https://www.kaggle.com/nareshbhat/health-care-data-set-on-heart-attack-possibility\n",
    "\n",
    "Необходимо предсказать есть ли риск сердечного заболевания у человека.\n",
    "\n",
    "Описание признаков:\n",
    "1. age - возраст\n",
    "2. sex - пол\n",
    "3. cp - тип боли в груди (4 варианта ответа)\n",
    "4. trestbps - артериальное давление в состоянии покоя\n",
    "5. chol - уровень холестерина мг/дл\n",
    "6. fbs - уровень сахара в крови натощак > 120 мг / дл\n",
    "7. restecg - результаты электрокардиографии в покое (значения 0,1,2)\n",
    "8. thalach - достигнутая максимальная частота пульса\n",
    "9. exang - стенокардия, вызванная физической нагрузкой\n",
    "10. oldpeak - депрессия ST, вызванная упражнениями по сравнению с отдыхом\n",
    "11. slope - наклон сегмента ST при пиковой нагрузке\n",
    "12. ca - количество крупных сосудов (0-3), окрашенных флурозопией\n",
    "13. thal - 0 = нормально; 1 = исправленный дефект; 2 = обратимый дефект\n",
    "14. target - 1 - высокий шанс сердечного приступа; 0 - низкий шанс сердечного приступа"
   ]
  },
  {
   "cell_type": "code",
   "execution_count": 2,
   "metadata": {},
   "outputs": [],
   "source": [
    "df_path = \"heart.csv\"\n",
    "df = pd.read_csv(df_path)"
   ]
  },
  {
   "cell_type": "code",
   "execution_count": 3,
   "metadata": {},
   "outputs": [],
   "source": [
    "target = 'target'\n",
    "\n",
    "X_train, X_test, y_train, y_test = train_test_split(df.drop(target, axis=1), df[target],\n",
    "                                                    train_size=0.75,\n",
    "                                                    stratify=df[target],\n",
    "                                                    random_state=42)"
   ]
  },
  {
   "cell_type": "code",
   "execution_count": 4,
   "metadata": {},
   "outputs": [],
   "source": [
    "def get_metrics(y_true, y_pred):\n",
    "    precision, recall, thresholds = precision_recall_curve(y_true, y_pred)\n",
    "\n",
    "    fscore = (2 * precision * recall) / (precision + recall)\n",
    "    ix = np.argmax(fscore)\n",
    "    \n",
    "    return fscore[ix], precision[ix], recall[ix], roc_auc_score(y_true, y_pred), thresholds[ix]"
   ]
  },
  {
   "cell_type": "code",
   "execution_count": 5,
   "metadata": {},
   "outputs": [],
   "source": [
    "model = RandomForestClassifier(random_state = 42)\n",
    "model.fit(X_train, y_train);"
   ]
  },
  {
   "cell_type": "code",
   "execution_count": 6,
   "metadata": {},
   "outputs": [],
   "source": [
    "with open(\"heart_attack_random_forest.dill\", \"wb\") as f:\n",
    "    dill.dump(model, f)"
   ]
  },
  {
   "cell_type": "markdown",
   "metadata": {},
   "source": [
    "Проверка модели"
   ]
  },
  {
   "cell_type": "code",
   "execution_count": 7,
   "metadata": {},
   "outputs": [],
   "source": [
    "with open('heart_attack_random_forest.dill', 'rb') as in_strm:\n",
    "    model = dill.load(in_strm)"
   ]
  },
  {
   "cell_type": "code",
   "execution_count": 8,
   "metadata": {},
   "outputs": [],
   "source": [
    "preds = model.predict_proba(X_test)[:, 1]\n",
    "metrics = get_metrics(y_test, preds)"
   ]
  },
  {
   "cell_type": "code",
   "execution_count": 9,
   "metadata": {},
   "outputs": [
    {
     "name": "stdout",
     "output_type": "stream",
     "text": [
      "fscore: 0.84; precision: 0.74; recall: 0.98; roc_auc: 0.88; threshold: 0.4\n"
     ]
    }
   ],
   "source": [
    "metrics = np.array(metrics).round(2)\n",
    "print(\"fscore: {}; precision: {}; recall: {}; roc_auc: {}; threshold: {}\".format(*metrics))"
   ]
  }
 ],
 "metadata": {
  "kernelspec": {
   "display_name": "Python 3",
   "language": "python",
   "name": "python3"
  },
  "language_info": {
   "codemirror_mode": {
    "name": "ipython",
    "version": 3
   },
   "file_extension": ".py",
   "mimetype": "text/x-python",
   "name": "python",
   "nbconvert_exporter": "python",
   "pygments_lexer": "ipython3",
   "version": "3.8.5"
  }
 },
 "nbformat": 4,
 "nbformat_minor": 4
}
